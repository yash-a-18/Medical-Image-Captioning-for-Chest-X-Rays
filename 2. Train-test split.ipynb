{
 "cells": [
  {
   "cell_type": "code",
   "execution_count": 1,
   "id": "48549de5",
   "metadata": {},
   "outputs": [],
   "source": [
    "import pandas as pd\n",
    "import os\n",
    "from sklearn.model_selection import train_test_split\n",
    "from sklearn.utils import resample\n",
    "from tensorflow.keras.preprocessing.text import Tokenizer\n",
    "import numpy as np\n",
    "from matplotlib import pyplot as plt\n",
    "import seaborn as sns"
   ]
  },
  {
   "cell_type": "code",
   "execution_count": 2,
   "id": "65a1b153",
   "metadata": {},
   "outputs": [],
   "source": [
    "image_folder = './Dataset/Images/Chest_X-Rays/' #path to folder containing images\n",
    "df_path = './Chest_X-Rays_Reports.csv'\n",
    "chexnet_weights = './CheXNet_weights/brucechou1983_CheXNet_Keras_0.3.0_weights.h5'"
   ]
  },
  {
   "cell_type": "code",
   "execution_count": 3,
   "id": "ccd41e30",
   "metadata": {},
   "outputs": [
    {
     "name": "stdout",
     "output_type": "stream",
     "text": [
      "(4033, 11)\n",
      "['image_1', 'image_2', 'comparison', 'indication', 'findings', 'impression', 'xml file name', 'im1_height', 'im1_width', 'im2_height', 'im2_width']\n"
     ]
    },
    {
     "data": {
      "text/html": [
       "<div>\n",
       "<style scoped>\n",
       "    .dataframe tbody tr th:only-of-type {\n",
       "        vertical-align: middle;\n",
       "    }\n",
       "\n",
       "    .dataframe tbody tr th {\n",
       "        vertical-align: top;\n",
       "    }\n",
       "\n",
       "    .dataframe thead th {\n",
       "        text-align: right;\n",
       "    }\n",
       "</style>\n",
       "<table border=\"1\" class=\"dataframe\">\n",
       "  <thead>\n",
       "    <tr style=\"text-align: right;\">\n",
       "      <th></th>\n",
       "      <th>image_1</th>\n",
       "      <th>image_2</th>\n",
       "      <th>comparison</th>\n",
       "      <th>indication</th>\n",
       "      <th>findings</th>\n",
       "      <th>impression</th>\n",
       "      <th>xml file name</th>\n",
       "      <th>im1_height</th>\n",
       "      <th>im1_width</th>\n",
       "      <th>im2_height</th>\n",
       "      <th>im2_width</th>\n",
       "    </tr>\n",
       "  </thead>\n",
       "  <tbody>\n",
       "    <tr>\n",
       "      <th>0</th>\n",
       "      <td>CXR1_1_IM-0001-3001.png</td>\n",
       "      <td>CXR1_1_IM-0001-4001.png</td>\n",
       "      <td>none .</td>\n",
       "      <td>positive tb test</td>\n",
       "      <td>the cardiac silhouette and mediastinum size ar...</td>\n",
       "      <td>normal chest x .</td>\n",
       "      <td>1.xml</td>\n",
       "      <td>624</td>\n",
       "      <td>512</td>\n",
       "      <td>420</td>\n",
       "      <td>512</td>\n",
       "    </tr>\n",
       "    <tr>\n",
       "      <th>1</th>\n",
       "      <td>CXR10_IM-0002-1001.png</td>\n",
       "      <td>CXR10_IM-0002-2001.png</td>\n",
       "      <td>chest radiographs</td>\n",
       "      <td>year old male chest pain .</td>\n",
       "      <td>the cardiomediastinal silhouette is within nor...</td>\n",
       "      <td>no acute cardiopulmonary process .</td>\n",
       "      <td>10.xml</td>\n",
       "      <td>624</td>\n",
       "      <td>512</td>\n",
       "      <td>420</td>\n",
       "      <td>512</td>\n",
       "    </tr>\n",
       "  </tbody>\n",
       "</table>\n",
       "</div>"
      ],
      "text/plain": [
       "                   image_1                  image_2         comparison  \\\n",
       "0  CXR1_1_IM-0001-3001.png  CXR1_1_IM-0001-4001.png             none .   \n",
       "1   CXR10_IM-0002-1001.png   CXR10_IM-0002-2001.png  chest radiographs   \n",
       "\n",
       "                   indication  \\\n",
       "0            positive tb test   \n",
       "1  year old male chest pain .   \n",
       "\n",
       "                                            findings  \\\n",
       "0  the cardiac silhouette and mediastinum size ar...   \n",
       "1  the cardiomediastinal silhouette is within nor...   \n",
       "\n",
       "                           impression xml file name  im1_height  im1_width  \\\n",
       "0                    normal chest x .         1.xml         624        512   \n",
       "1  no acute cardiopulmonary process .        10.xml         624        512   \n",
       "\n",
       "   im2_height  im2_width  \n",
       "0         420        512  \n",
       "1         420        512  "
      ]
     },
     "execution_count": 3,
     "metadata": {},
     "output_type": "execute_result"
    }
   ],
   "source": [
    "df = pd.read_csv(df_path)\n",
    "print(df.shape)\n",
    "print(df.columns.tolist())\n",
    "df.head(2)"
   ]
  },
  {
   "cell_type": "markdown",
   "id": "04d81786",
   "metadata": {},
   "source": [
    "# Data Preprocessing"
   ]
  },
  {
   "cell_type": "code",
   "execution_count": 4,
   "id": "7eb0a0ab",
   "metadata": {},
   "outputs": [
    {
     "name": "stdout",
     "output_type": "stream",
     "text": [
      "(4033, 7)\n"
     ]
    },
    {
     "data": {
      "text/html": [
       "<div>\n",
       "<style scoped>\n",
       "    .dataframe tbody tr th:only-of-type {\n",
       "        vertical-align: middle;\n",
       "    }\n",
       "\n",
       "    .dataframe tbody tr th {\n",
       "        vertical-align: top;\n",
       "    }\n",
       "\n",
       "    .dataframe thead th {\n",
       "        text-align: right;\n",
       "    }\n",
       "</style>\n",
       "<table border=\"1\" class=\"dataframe\">\n",
       "  <thead>\n",
       "    <tr style=\"text-align: right;\">\n",
       "      <th></th>\n",
       "      <th>image_1</th>\n",
       "      <th>image_2</th>\n",
       "      <th>impression</th>\n",
       "      <th>xml file name</th>\n",
       "      <th>impression_final</th>\n",
       "      <th>impression_ip</th>\n",
       "      <th>impression_op</th>\n",
       "    </tr>\n",
       "  </thead>\n",
       "  <tbody>\n",
       "    <tr>\n",
       "      <th>0</th>\n",
       "      <td>./Dataset/Images/Chest_X-Rays/CXR1_1_IM-0001-3...</td>\n",
       "      <td>./Dataset/Images/Chest_X-Rays/CXR1_1_IM-0001-4...</td>\n",
       "      <td>normal chest x .</td>\n",
       "      <td>1.xml</td>\n",
       "      <td>normal chest x .</td>\n",
       "      <td>normal chest x .</td>\n",
       "      <td>normal chest x .</td>\n",
       "    </tr>\n",
       "    <tr>\n",
       "      <th>1</th>\n",
       "      <td>./Dataset/Images/Chest_X-Rays/CXR10_IM-0002-10...</td>\n",
       "      <td>./Dataset/Images/Chest_X-Rays/CXR10_IM-0002-20...</td>\n",
       "      <td>no acute cardiopulmonary process .</td>\n",
       "      <td>10.xml</td>\n",
       "      <td>no acute cardiopulmonary process .</td>\n",
       "      <td>no acute cardiopulmonary process .</td>\n",
       "      <td>no acute cardiopulmonary process .</td>\n",
       "    </tr>\n",
       "  </tbody>\n",
       "</table>\n",
       "</div>"
      ],
      "text/plain": [
       "                                             image_1  \\\n",
       "0  ./Dataset/Images/Chest_X-Rays/CXR1_1_IM-0001-3...   \n",
       "1  ./Dataset/Images/Chest_X-Rays/CXR10_IM-0002-10...   \n",
       "\n",
       "                                             image_2  \\\n",
       "0  ./Dataset/Images/Chest_X-Rays/CXR1_1_IM-0001-4...   \n",
       "1  ./Dataset/Images/Chest_X-Rays/CXR10_IM-0002-20...   \n",
       "\n",
       "                           impression xml file name  \\\n",
       "0                    normal chest x .         1.xml   \n",
       "1  no acute cardiopulmonary process .        10.xml   \n",
       "\n",
       "                       impression_final                        impression_ip  \\\n",
       "0                     normal chest x .                      normal chest x .   \n",
       "1   no acute cardiopulmonary process .    no acute cardiopulmonary process .   \n",
       "\n",
       "                         impression_op  \n",
       "0                    normal chest x .   \n",
       "1  no acute cardiopulmonary process .   "
      ]
     },
     "execution_count": 4,
     "metadata": {},
     "output_type": "execute_result"
    }
   ],
   "source": [
    "col = ['image_1','image_2','impression','xml file name']\n",
    "df = df[col].copy()\n",
    "#path\n",
    "df['image_1'] = df['image_1'].apply(lambda row: os.path.join(image_folder,row)) #https://stackoverflow.com/a/61880790\n",
    "df['image_2'] = df['image_2'].apply(lambda row: os.path.join(image_folder,row))\n",
    "\n",
    "df['impression_final'] = ' ' + df.impression + ' '\n",
    "df['impression_ip'] = ' ' + df.impression\n",
    "df['impression_op'] = df.impression + ' ' \n",
    "print(df.shape)\n",
    "df.head(2)"
   ]
  },
  {
   "cell_type": "code",
   "execution_count": 5,
   "id": "a2be691a",
   "metadata": {},
   "outputs": [
    {
     "data": {
      "text/plain": [
       "no acute cardiopulmonary abnormality .                                                                                        383\n",
       "no acute cardiopulmonary findings .                                                                                           172\n",
       "no acute cardiopulmonary disease .                                                                                            147\n",
       "no acute cardiopulmonary abnormalities .                                                                                      141\n",
       "no active disease .                                                                                                           137\n",
       "                                                                                                                             ... \n",
       "no acute cardiopulmonary abnormality . no active disease .                                                                      1\n",
       "scarring or pleural plaque in the left upper lobe with partial resection of the posterior fourth rib . no acute findings .      1\n",
       "low lung volumes . bibasilar atelectasis versus scarring .                                                                      1\n",
       "similar exam with changes of cystic fibrosis . no focal abnormality .                                                           1\n",
       "heart size is normal and lungs are clear . no pneumothorax effusion or pneumonia .                                              1\n",
       "Name: impression, Length: 1726, dtype: int64"
      ]
     },
     "execution_count": 5,
     "metadata": {},
     "output_type": "execute_result"
    }
   ],
   "source": [
    "df['impression'].value_counts() # Unique values counts"
   ]
  },
  {
   "cell_type": "markdown",
   "id": "85022b34",
   "metadata": {},
   "source": [
    "Here we can see that some captions have only 1 values in the entire dataset while some datasets are having more than 5. What we will do here is that we will upsample all those datapoint which impression value counts <=5. First we will remove all those datapoints which are duplicated based on xml file name(ie of the same patient because some patients are having more than 2 images) and then split the data into train and test."
   ]
  },
  {
   "cell_type": "code",
   "execution_count": 6,
   "id": "525ec55b",
   "metadata": {},
   "outputs": [
    {
     "data": {
      "text/plain": [
       "(4033, 7)"
      ]
     },
     "execution_count": 6,
     "metadata": {},
     "output_type": "execute_result"
    }
   ],
   "source": [
    "df.shape"
   ]
  },
  {
   "cell_type": "code",
   "execution_count": 7,
   "id": "02aa92f2",
   "metadata": {},
   "outputs": [
    {
     "data": {
      "text/plain": [
       "array(['1.xml', '10.xml', '100.xml', ..., '997.xml', '998.xml', '999.xml'],\n",
       "      dtype=object)"
      ]
     },
     "execution_count": 7,
     "metadata": {},
     "output_type": "execute_result"
    }
   ],
   "source": [
    "df['xml file name'].unique()"
   ]
  },
  {
   "cell_type": "code",
   "execution_count": 8,
   "id": "474dd508",
   "metadata": {},
   "outputs": [
    {
     "data": {
      "text/plain": [
       "3820"
      ]
     },
     "execution_count": 8,
     "metadata": {},
     "output_type": "execute_result"
    }
   ],
   "source": [
    "df['xml file name'].nunique()"
   ]
  },
  {
   "cell_type": "code",
   "execution_count": 9,
   "id": "28029919",
   "metadata": {},
   "outputs": [
    {
     "data": {
      "text/plain": [
       "1303.xml    4\n",
       "846.xml     3\n",
       "2084.xml    3\n",
       "3566.xml    3\n",
       "3359.xml    3\n",
       "           ..\n",
       "224.xml     1\n",
       "2240.xml    1\n",
       "2241.xml    1\n",
       "2242.xml    1\n",
       "2806.xml    1\n",
       "Name: xml file name, Length: 3820, dtype: int64"
      ]
     },
     "execution_count": 9,
     "metadata": {},
     "output_type": "execute_result"
    }
   ],
   "source": [
    "df['xml file name'].value_counts()"
   ]
  },
  {
   "cell_type": "code",
   "execution_count": 10,
   "id": "05d6e790",
   "metadata": {},
   "outputs": [],
   "source": [
    "df.drop_duplicates(subset = ['xml file name'], inplace = True)"
   ]
  },
  {
   "cell_type": "code",
   "execution_count": 11,
   "id": "1f0fcd2b",
   "metadata": {},
   "outputs": [
    {
     "data": {
      "text/plain": [
       "(3820, 7)"
      ]
     },
     "execution_count": 11,
     "metadata": {},
     "output_type": "execute_result"
    }
   ],
   "source": [
    "df.shape"
   ]
  },
  {
   "cell_type": "code",
   "execution_count": 12,
   "id": "abeb70c1",
   "metadata": {},
   "outputs": [
    {
     "data": {
      "text/plain": [
       "3820"
      ]
     },
     "execution_count": 12,
     "metadata": {},
     "output_type": "execute_result"
    }
   ],
   "source": [
    "df['xml file name'].nunique()"
   ]
  },
  {
   "cell_type": "code",
   "execution_count": 13,
   "id": "32608da5",
   "metadata": {},
   "outputs": [
    {
     "data": {
      "text/plain": [
       "1.xml       1\n",
       "3415.xml    1\n",
       "3404.xml    1\n",
       "3405.xml    1\n",
       "3406.xml    1\n",
       "           ..\n",
       "2209.xml    1\n",
       "221.xml     1\n",
       "2210.xml    1\n",
       "2211.xml    1\n",
       "999.xml     1\n",
       "Name: xml file name, Length: 3820, dtype: int64"
      ]
     },
     "execution_count": 13,
     "metadata": {},
     "output_type": "execute_result"
    }
   ],
   "source": [
    "df['xml file name'].value_counts()"
   ]
  },
  {
   "cell_type": "markdown",
   "id": "acc92d75",
   "metadata": {},
   "source": [
    "As we can see, the shape of the dataframe/dataset has changed."
   ]
  },
  {
   "cell_type": "code",
   "execution_count": 14,
   "id": "3d4d435e",
   "metadata": {},
   "outputs": [
    {
     "data": {
      "text/plain": [
       "Index(['impression', 'image_1', 'image_2', 'impression_x', 'xml file name',\n",
       "       'impression_final', 'impression_ip', 'impression_op', 'impression_y'],\n",
       "      dtype='object')"
      ]
     },
     "execution_count": 14,
     "metadata": {},
     "output_type": "execute_result"
    }
   ],
   "source": [
    "#adding a new column impression counts which tells the total value counts of impression of that datapoint \n",
    "k = df['impression'].value_counts()\n",
    "df = df.merge(k,\n",
    "         left_on = 'impression',\n",
    "         right_index=True) #join left impression value with right index\n",
    "\n",
    "df.columns"
   ]
  },
  {
   "cell_type": "code",
   "execution_count": 15,
   "id": "2939928d",
   "metadata": {},
   "outputs": [
    {
     "data": {
      "text/html": [
       "<div>\n",
       "<style scoped>\n",
       "    .dataframe tbody tr th:only-of-type {\n",
       "        vertical-align: middle;\n",
       "    }\n",
       "\n",
       "    .dataframe tbody tr th {\n",
       "        vertical-align: top;\n",
       "    }\n",
       "\n",
       "    .dataframe thead th {\n",
       "        text-align: right;\n",
       "    }\n",
       "</style>\n",
       "<table border=\"1\" class=\"dataframe\">\n",
       "  <thead>\n",
       "    <tr style=\"text-align: right;\">\n",
       "      <th></th>\n",
       "      <th>impression</th>\n",
       "      <th>image_1</th>\n",
       "      <th>image_2</th>\n",
       "      <th>impression_x</th>\n",
       "      <th>xml file name</th>\n",
       "      <th>impression_final</th>\n",
       "      <th>impression_ip</th>\n",
       "      <th>impression_op</th>\n",
       "      <th>impression_y</th>\n",
       "    </tr>\n",
       "  </thead>\n",
       "  <tbody>\n",
       "    <tr>\n",
       "      <th>0</th>\n",
       "      <td>normal chest x .</td>\n",
       "      <td>./Dataset/Images/Chest_X-Rays/CXR1_1_IM-0001-3...</td>\n",
       "      <td>./Dataset/Images/Chest_X-Rays/CXR1_1_IM-0001-4...</td>\n",
       "      <td>normal chest x .</td>\n",
       "      <td>1.xml</td>\n",
       "      <td>normal chest x .</td>\n",
       "      <td>normal chest x .</td>\n",
       "      <td>normal chest x .</td>\n",
       "      <td>3</td>\n",
       "    </tr>\n",
       "    <tr>\n",
       "      <th>1274</th>\n",
       "      <td>normal chest x .</td>\n",
       "      <td>./Dataset/Images/Chest_X-Rays/CXR2145_IM-0766-...</td>\n",
       "      <td>./Dataset/Images/Chest_X-Rays/CXR2145_IM-0766-...</td>\n",
       "      <td>normal chest x .</td>\n",
       "      <td>2145.xml</td>\n",
       "      <td>normal chest x .</td>\n",
       "      <td>normal chest x .</td>\n",
       "      <td>normal chest x .</td>\n",
       "      <td>3</td>\n",
       "    </tr>\n",
       "  </tbody>\n",
       "</table>\n",
       "</div>"
      ],
      "text/plain": [
       "            impression                                            image_1  \\\n",
       "0     normal chest x .  ./Dataset/Images/Chest_X-Rays/CXR1_1_IM-0001-3...   \n",
       "1274  normal chest x .  ./Dataset/Images/Chest_X-Rays/CXR2145_IM-0766-...   \n",
       "\n",
       "                                                image_2      impression_x  \\\n",
       "0     ./Dataset/Images/Chest_X-Rays/CXR1_1_IM-0001-4...  normal chest x .   \n",
       "1274  ./Dataset/Images/Chest_X-Rays/CXR2145_IM-0766-...  normal chest x .   \n",
       "\n",
       "     xml file name    impression_final      impression_ip      impression_op  \\\n",
       "0            1.xml   normal chest x .    normal chest x .  normal chest x .    \n",
       "1274      2145.xml   normal chest x .    normal chest x .  normal chest x .    \n",
       "\n",
       "      impression_y  \n",
       "0                3  \n",
       "1274             3  "
      ]
     },
     "execution_count": 15,
     "metadata": {},
     "output_type": "execute_result"
    }
   ],
   "source": [
    "df.head(2)"
   ]
  },
  {
   "cell_type": "code",
   "execution_count": 16,
   "id": "eb996bbf",
   "metadata": {},
   "outputs": [
    {
     "data": {
      "text/html": [
       "<div>\n",
       "<style scoped>\n",
       "    .dataframe tbody tr th:only-of-type {\n",
       "        vertical-align: middle;\n",
       "    }\n",
       "\n",
       "    .dataframe tbody tr th {\n",
       "        vertical-align: top;\n",
       "    }\n",
       "\n",
       "    .dataframe thead th {\n",
       "        text-align: right;\n",
       "    }\n",
       "</style>\n",
       "<table border=\"1\" class=\"dataframe\">\n",
       "  <thead>\n",
       "    <tr style=\"text-align: right;\">\n",
       "      <th></th>\n",
       "      <th>impression</th>\n",
       "      <th>image_1</th>\n",
       "      <th>image_2</th>\n",
       "      <th>xml file name</th>\n",
       "      <th>impression_final</th>\n",
       "      <th>impression_ip</th>\n",
       "      <th>impression_op</th>\n",
       "      <th>impression_counts</th>\n",
       "    </tr>\n",
       "  </thead>\n",
       "  <tbody>\n",
       "    <tr>\n",
       "      <th>0</th>\n",
       "      <td>normal chest x .</td>\n",
       "      <td>./Dataset/Images/Chest_X-Rays/CXR1_1_IM-0001-3...</td>\n",
       "      <td>./Dataset/Images/Chest_X-Rays/CXR1_1_IM-0001-4...</td>\n",
       "      <td>1.xml</td>\n",
       "      <td>normal chest x .</td>\n",
       "      <td>normal chest x .</td>\n",
       "      <td>normal chest x .</td>\n",
       "      <td>3</td>\n",
       "    </tr>\n",
       "    <tr>\n",
       "      <th>1274</th>\n",
       "      <td>normal chest x .</td>\n",
       "      <td>./Dataset/Images/Chest_X-Rays/CXR2145_IM-0766-...</td>\n",
       "      <td>./Dataset/Images/Chest_X-Rays/CXR2145_IM-0766-...</td>\n",
       "      <td>2145.xml</td>\n",
       "      <td>normal chest x .</td>\n",
       "      <td>normal chest x .</td>\n",
       "      <td>normal chest x .</td>\n",
       "      <td>3</td>\n",
       "    </tr>\n",
       "    <tr>\n",
       "      <th>1732</th>\n",
       "      <td>normal chest x .</td>\n",
       "      <td>./Dataset/Images/Chest_X-Rays/CXR2545_IM-1054-...</td>\n",
       "      <td>./Dataset/Images/Chest_X-Rays/CXR2545_IM-1054-...</td>\n",
       "      <td>2545.xml</td>\n",
       "      <td>normal chest x .</td>\n",
       "      <td>normal chest x .</td>\n",
       "      <td>normal chest x .</td>\n",
       "      <td>3</td>\n",
       "    </tr>\n",
       "    <tr>\n",
       "      <th>1</th>\n",
       "      <td>no acute cardiopulmonary process .</td>\n",
       "      <td>./Dataset/Images/Chest_X-Rays/CXR10_IM-0002-10...</td>\n",
       "      <td>./Dataset/Images/Chest_X-Rays/CXR10_IM-0002-20...</td>\n",
       "      <td>10.xml</td>\n",
       "      <td>no acute cardiopulmonary process .</td>\n",
       "      <td>no acute cardiopulmonary process .</td>\n",
       "      <td>no acute cardiopulmonary process .</td>\n",
       "      <td>87</td>\n",
       "    </tr>\n",
       "    <tr>\n",
       "      <th>63</th>\n",
       "      <td>no acute cardiopulmonary process .</td>\n",
       "      <td>./Dataset/Images/Chest_X-Rays/CXR1051_IM-0039-...</td>\n",
       "      <td>./Dataset/Images/Chest_X-Rays/CXR1051_IM-0039-...</td>\n",
       "      <td>1051.xml</td>\n",
       "      <td>no acute cardiopulmonary process .</td>\n",
       "      <td>no acute cardiopulmonary process .</td>\n",
       "      <td>no acute cardiopulmonary process .</td>\n",
       "      <td>87</td>\n",
       "    </tr>\n",
       "  </tbody>\n",
       "</table>\n",
       "</div>"
      ],
      "text/plain": [
       "                              impression  \\\n",
       "0                       normal chest x .   \n",
       "1274                    normal chest x .   \n",
       "1732                    normal chest x .   \n",
       "1     no acute cardiopulmonary process .   \n",
       "63    no acute cardiopulmonary process .   \n",
       "\n",
       "                                                image_1  \\\n",
       "0     ./Dataset/Images/Chest_X-Rays/CXR1_1_IM-0001-3...   \n",
       "1274  ./Dataset/Images/Chest_X-Rays/CXR2145_IM-0766-...   \n",
       "1732  ./Dataset/Images/Chest_X-Rays/CXR2545_IM-1054-...   \n",
       "1     ./Dataset/Images/Chest_X-Rays/CXR10_IM-0002-10...   \n",
       "63    ./Dataset/Images/Chest_X-Rays/CXR1051_IM-0039-...   \n",
       "\n",
       "                                                image_2 xml file name  \\\n",
       "0     ./Dataset/Images/Chest_X-Rays/CXR1_1_IM-0001-4...         1.xml   \n",
       "1274  ./Dataset/Images/Chest_X-Rays/CXR2145_IM-0766-...      2145.xml   \n",
       "1732  ./Dataset/Images/Chest_X-Rays/CXR2545_IM-1054-...      2545.xml   \n",
       "1     ./Dataset/Images/Chest_X-Rays/CXR10_IM-0002-20...        10.xml   \n",
       "63    ./Dataset/Images/Chest_X-Rays/CXR1051_IM-0039-...      1051.xml   \n",
       "\n",
       "                          impression_final  \\\n",
       "0                        normal chest x .    \n",
       "1274                     normal chest x .    \n",
       "1732                     normal chest x .    \n",
       "1      no acute cardiopulmonary process .    \n",
       "63     no acute cardiopulmonary process .    \n",
       "\n",
       "                            impression_ip  \\\n",
       "0                        normal chest x .   \n",
       "1274                     normal chest x .   \n",
       "1732                     normal chest x .   \n",
       "1      no acute cardiopulmonary process .   \n",
       "63     no acute cardiopulmonary process .   \n",
       "\n",
       "                            impression_op  impression_counts  \n",
       "0                       normal chest x .                   3  \n",
       "1274                    normal chest x .                   3  \n",
       "1732                    normal chest x .                   3  \n",
       "1     no acute cardiopulmonary process .                  87  \n",
       "63    no acute cardiopulmonary process .                  87  "
      ]
     },
     "execution_count": 16,
     "metadata": {},
     "output_type": "execute_result"
    }
   ],
   "source": [
    "df.columns = ['impression', 'image_1', 'image_2', 'impression_x', 'xml file name','impression_final',\n",
    "       'impression_ip', 'impression_op', 'impression_counts'] #changing the column names\n",
    "del df['impression_x'] # deleting impression_x column\n",
    "df.head()"
   ]
  },
  {
   "cell_type": "code",
   "execution_count": 17,
   "id": "38a05c56",
   "metadata": {},
   "outputs": [
    {
     "data": {
      "text/plain": [
       "(3820, 8)"
      ]
     },
     "execution_count": 17,
     "metadata": {},
     "output_type": "execute_result"
    }
   ],
   "source": [
    "df.shape"
   ]
  },
  {
   "cell_type": "markdown",
   "id": "d1ecdb51",
   "metadata": {},
   "source": [
    "# Train-Test Split"
   ]
  },
  {
   "cell_type": "markdown",
   "id": "a28e5e03",
   "metadata": {},
   "source": [
    "Here our approach is that, we will divide the data into two, one with all the impression value counts greater than 5 (say *other1*) and other being <=5 (say *other2*). Then split the data with test_size=0.1. A sample of 0.2*other2.shape[0] will be then taken and will be added on to the test data that was split. The other data from the other2 will be appended to train."
   ]
  },
  {
   "cell_type": "code",
   "execution_count": 18,
   "id": "b88a022e",
   "metadata": {},
   "outputs": [
    {
     "name": "stdout",
     "output_type": "stream",
     "text": [
      "Shape of other1: (2013, 8)\n",
      "Shape of other2: (1807, 8)\n"
     ]
    }
   ],
   "source": [
    "other1 = df[df['impression_counts']>5] #selecting those datapoints which have impression valuecounts >5\n",
    "print('Shape of other1:',other1.shape)\n",
    "other2 = df[df['impression_counts']<=5] #selecting those datapoints which have impression valuecounts <=5\n",
    "print('Shape of other2:',other2.shape)"
   ]
  },
  {
   "cell_type": "code",
   "execution_count": 19,
   "id": "0bba0063",
   "metadata": {},
   "outputs": [
    {
     "name": "stdout",
     "output_type": "stream",
     "text": [
      "Shape of initial train data: (1811, 8)\n",
      "Shape of initial test data: (202, 8)\n"
     ]
    }
   ],
   "source": [
    "train,test = train_test_split(other1, stratify = other1['impression'].values, test_size = 0.1, random_state = 400)\n",
    "print('Shape of initial train data:',train.shape)\n",
    "print('Shape of initial test data:',test.shape)"
   ]
  },
  {
   "cell_type": "code",
   "execution_count": 20,
   "id": "fb36f5e1",
   "metadata": {},
   "outputs": [
    {
     "name": "stdout",
     "output_type": "stream",
     "text": [
      "Shape of 20% of other2 data(test data): (361, 8)\n"
     ]
    }
   ],
   "source": [
    "test_other2_sample = other2.sample(int(0.2*other2.shape[0]),random_state = 400) #getting some datapoints from other2 data for test data\n",
    "print('Shape of 20% of other2 data(test data):',test_other2_sample.shape)"
   ]
  },
  {
   "cell_type": "code",
   "execution_count": 21,
   "id": "bb9b9c97",
   "metadata": {},
   "outputs": [
    {
     "name": "stdout",
     "output_type": "stream",
     "text": [
      "Shape of 80% of other2 data(adding to train data): (1446, 8)\n"
     ]
    }
   ],
   "source": [
    "other2 = other2.drop(test_other2_sample.index,axis=0) # getting remaining 80% for training\n",
    "print('Shape of 80% of other2 data(adding to train data):',other2.shape)"
   ]
  },
  {
   "cell_type": "code",
   "execution_count": 22,
   "id": "2db9e37b",
   "metadata": {},
   "outputs": [],
   "source": [
    "# here we will be choosing 0.2 as the test size as to create a reasonable size of test data\n",
    "test = test.append(test_other2_sample)\n",
    "test = test.reset_index(drop=True)"
   ]
  },
  {
   "cell_type": "code",
   "execution_count": 23,
   "id": "200d8c4f",
   "metadata": {},
   "outputs": [
    {
     "name": "stdout",
     "output_type": "stream",
     "text": [
      "Shape of final train data: (3257, 8)\n",
      "Shape of final test data: (563, 8)\n"
     ]
    }
   ],
   "source": [
    "train = train.append(other2) \n",
    "train = train.reset_index(drop=True)\n",
    "print('Shape of final train data:',train.shape) # shape of initial train data + remaining 80% of other2\n",
    "print('Shape of final test data:',test.shape) # shape of initial test data + 20% of other2"
   ]
  },
  {
   "cell_type": "markdown",
   "id": "94719e6f",
   "metadata": {},
   "source": [
    "# Upsampling-Downsampling"
   ]
  },
  {
   "cell_type": "markdown",
   "id": "71cbc1a3",
   "metadata": {},
   "source": [
    "Now we will upsample and downsample certain datapoints."
   ]
  },
  {
   "cell_type": "code",
   "execution_count": 24,
   "id": "674edf06",
   "metadata": {},
   "outputs": [
    {
     "name": "stdout",
     "output_type": "stream",
     "text": [
      "n1, n2, n3: 1446, 934, 877\n",
      "\n",
      "Shape of training dataset after up-downsampling: (4487, 8)\n"
     ]
    }
   ],
   "source": [
    "train_df_majority = train[train['impression_counts']>=100] #having value counts >=100\n",
    "train_df_minority = train[train['impression_counts']<=5] #having value counts <=5\n",
    "train_df_other = train[(train['impression_counts']>5)&(train['impression_counts']<100)] #value counts between 5 and 100\n",
    "n1 = train_df_minority.shape[0]\n",
    "n2 = train_df_majority.shape[0]\n",
    "n3 = train_df_other.shape[0]\n",
    "print(f'n1, n2, n3: {n1}, {n2}, {n3}')\n",
    "# we will upsample them to 30\n",
    "df_minority_upsampled = resample(train_df_minority,\n",
    "                                 replace = True,\n",
    "                                 n_samples = 3*n1,\n",
    "                                 random_state = 420)\n",
    "df_majority_downsampled = resample(train_df_majority,\n",
    "                                 replace = False,\n",
    "                                 n_samples = n2//15,\n",
    "                                 random_state = 420)\n",
    "df_other_downsampled = resample(train_df_other,\n",
    "                                 replace = False,\n",
    "                                 n_samples = n3//10,\n",
    "                                 random_state = 420)\n",
    "\n",
    "train = pd.concat([df_majority_downsampled, df_minority_upsampled, df_other_downsampled])\n",
    "train = train.reset_index(drop=True)\n",
    "del df_minority_upsampled, train_df_minority, train_df_majority, train_df_other, df_other_downsampled\n",
    "print('\\nShape of training dataset after up-downsampling:',train.shape)"
   ]
  },
  {
   "cell_type": "code",
   "execution_count": 25,
   "id": "7b8eb3ad",
   "metadata": {},
   "outputs": [
    {
     "data": {
      "text/plain": [
       "comparison well expanded and clear lungs . mediastinal contour within normal limits . no acute cardiopulmonary abnormality identified .                                                                                                                                                                                               21\n",
       "no acute cardiopulmonary abnormality .                                                                                                                                                                                                                                                                                                21\n",
       "unremarkable radiographs of the chest .                                                                                                                                                                                                                                                                                               17\n",
       "negative .                                                                                                                                                                                                                                                                                                                            16\n",
       "normal chest film .                                                                                                                                                                                                                                                                                                                   15\n",
       "                                                                                                                                                                                                                                                                                                                                      ..\n",
       "bilateral calcified granulomas . no acute airspace disease . no effusions . heart size upper limits of normal . unremarkable mediastinal contour . no acute cardiopulmonary abnormality identified .                                                                                                                                   1\n",
       "small focal nodular infiltrate in the lingula . correlate clinically for of infection pneumonia . there is no pleural effusion or pneumothorax . no edema . normal heart size . mediastinal and right lung calcifications are compatible with old granulomatous disease . right upper abdominal clips from prior cholecystectomy .     1\n",
       "of copd and interstitial lung disease . no definite pneumonia . there does appear to be progression of changes since                                                                                                                                                                                                                   1\n",
       "mild opacities compatible with residual atelectasis scarring .                                                                                                                                                                                                                                                                         1\n",
       "negative for acute cardiopulmonary findings .                                                                                                                                                                                                                                                                                          1\n",
       "Name: impression, Length: 1335, dtype: int64"
      ]
     },
     "execution_count": 25,
     "metadata": {},
     "output_type": "execute_result"
    }
   ],
   "source": [
    "train.impression.value_counts()"
   ]
  },
  {
   "cell_type": "code",
   "execution_count": 26,
   "id": "f1ef15b2",
   "metadata": {},
   "outputs": [],
   "source": [
    "train.to_csv('train.csv',index=False)\n",
    "test.to_csv('test.csv',index=False)"
   ]
  },
  {
   "cell_type": "code",
   "execution_count": 27,
   "id": "0c00d228",
   "metadata": {},
   "outputs": [],
   "source": [
    "train = pd.read_csv('train.csv')\n",
    "test = pd.read_csv('test.csv')"
   ]
  },
  {
   "cell_type": "markdown",
   "id": "71ce476e",
   "metadata": {},
   "source": [
    "# Creating Tokenizer"
   ]
  },
  {
   "cell_type": "code",
   "execution_count": 28,
   "id": "32156451",
   "metadata": {},
   "outputs": [],
   "source": [
    "tokenizer = Tokenizer(filters = '', oov_token = '') # setting filters to none\n",
    "tokenizer.fit_on_texts(train.impression_final.values)\n",
    "train_captions = tokenizer.texts_to_sequences(train.impression_final) \n",
    "test_captions = tokenizer.texts_to_sequences(test.impression_final) \n",
    "vocab_size = len(tokenizer.word_index)\n",
    "caption_len = np.array([len(i) for i in train_captions])\n",
    "start_index = tokenizer.word_index[''] # tokened value of \n",
    "end_index = tokenizer.word_index[''] # tokened value of "
   ]
  },
  {
   "cell_type": "code",
   "execution_count": 29,
   "id": "b1bd2e7a",
   "metadata": {},
   "outputs": [
    {
     "data": {
      "text/plain": [
       "' no acute cardiopulmonary findings . '"
      ]
     },
     "execution_count": 29,
     "metadata": {},
     "output_type": "execute_result"
    }
   ],
   "source": [
    "train.impression_final[0]"
   ]
  },
  {
   "cell_type": "code",
   "execution_count": 30,
   "id": "2ee7476e",
   "metadata": {},
   "outputs": [
    {
     "data": {
      "text/plain": [
       "[3, 6, 12, 32, 2]"
      ]
     },
     "execution_count": 30,
     "metadata": {},
     "output_type": "execute_result"
    }
   ],
   "source": [
    "train_captions[0]"
   ]
  },
  {
   "cell_type": "code",
   "execution_count": 31,
   "id": "98b4a6be",
   "metadata": {},
   "outputs": [
    {
     "data": {
      "image/png": "[encoded data removed]",
      "text/plain": [
       "<Figure size 432x432 with 1 Axes>"
      ]
     },
     "metadata": {
      "needs_background": "light"
     },
     "output_type": "display_data"
    },
    {
     "name": "stdout",
     "output_type": "stream",
     "text": [
      "\n",
      "Value Counts for caption length top 5 values\n",
      "\n",
      "Length|Counts\n",
      "5     282\n",
      "6     277\n",
      "10    253\n",
      "7     251\n",
      "8     251\n",
      "dtype: int64\n",
      "\n",
      "The max and min value of \"caption length\" was found to be 133 and 1 respectively\n",
      "The 80 percentile value of caption_len which is 27 will be taken as the maximum padded value for each impression\n"
     ]
    }
   ],
   "source": [
    "#visualising impression length and other details\n",
    "ax = sns.displot(caption_len,height = 6)\n",
    "ax.set_titles('Value Counts vs Caption Length')\n",
    "ax.set_xlabels('Impresion length')\n",
    "plt.show()\n",
    "print('\\nValue Counts for caption length top 5 values\\n')\n",
    "print('Length|Counts')\n",
    "print(pd.Series(caption_len).value_counts()[:5])\n",
    "print('\\nThe max and min value of \"caption length\" was found to be %i and %i respectively'%(max(caption_len),min(caption_len)))\n",
    "print('The 80 percentile value of caption_len which is %i will be taken as the maximum padded value for each impression'%(np.percentile(caption_len,80)))\n",
    "max_pad = int(np.percentile(caption_len,80))\n",
    "del train_captions,test_captions #we will create tokenizing  and padding in-built in dataloader"
   ]
  },
  {
   "cell_type": "code",
   "execution_count": null,
   "id": "977e2a2f",
   "metadata": {},
   "outputs": [],
   "source": []
  }
 ],
 "metadata": {
  "kernelspec": {
   "display_name": "Python 3 (ipykernel)",
   "language": "python",
   "name": "python3"
  },
  "language_info": {
   "codemirror_mode": {
    "name": "ipython",
    "version": 3
   },
   "file_extension": ".py",
   "mimetype": "text/x-python",
   "name": "python",
   "nbconvert_exporter": "python",
   "pygments_lexer": "ipython3",
   "version": "3.8.12"
  }
 },
 "nbformat": 4,
 "nbformat_minor": 5
}
